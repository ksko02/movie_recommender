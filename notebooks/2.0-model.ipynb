{
 "cells": [
  {
   "cell_type": "code",
   "execution_count": null,
   "id": "5f8aba18",
   "metadata": {},
   "outputs": [],
   "source": [
    "from surprise import Reader, Dataset, SVD\n",
    "from surprise.model_selection import train_test_split\n",
    "from surprise import accuracy\n",
    "import pandas as pd"
   ]
  },
  {
   "cell_type": "code",
   "execution_count": null,
   "id": "06b38cef",
   "metadata": {},
   "outputs": [],
   "source": []
  },
  {
   "cell_type": "code",
   "execution_count": null,
   "id": "66b9eaf1",
   "metadata": {},
   "outputs": [],
   "source": [
    "\n",
    "# создание объекта класса Reader\n",
    "reader = Reader(rating_scale=(1, 5))\n",
    "\n",
    "# создание объекта класса Dataset\n",
    "dataset = Dataset.load_from_df(R_train[['userId', 'movieId', 'rating']], reader)\n",
    "\n",
    "# разбиение данных на обучающую и тестовую выборки\n",
    "trainset, testset = train_test_split(dataset, test_size = 0.1)\n",
    "\n",
    "# создание экземпляра класса SVD\n",
    "model = SVD()\n",
    "\n",
    "# обучение модели на обучающей выборке\n",
    "model.fit(trainset)\n",
    "\n",
    "# предсказание рейтингов на тестовой выборке\n",
    "predictions = model.test(testset)\n",
    "\n",
    "# оценка качества модели\n",
    "print('RMSE:', accuracy.rmse(predictions))\n",
    "print('MAE:', accuracy.mae(predictions))"
   ]
  }
 ],
 "metadata": {
  "kernelspec": {
   "display_name": "Python 3 (ipykernel)",
   "language": "python",
   "name": "python3"
  },
  "language_info": {
   "codemirror_mode": {
    "name": "ipython",
    "version": 3
   },
   "file_extension": ".py",
   "mimetype": "text/x-python",
   "name": "python",
   "nbconvert_exporter": "python",
   "pygments_lexer": "ipython3",
   "version": "3.9.6"
  }
 },
 "nbformat": 4,
 "nbformat_minor": 5
}
